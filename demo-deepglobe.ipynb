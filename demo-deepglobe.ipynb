{
 "cells": [
  {
   "cell_type": "markdown",
   "id": "65123687",
   "metadata": {},
   "source": [
    "# DeepGlobe Land Cover Classification with PyTorch\n",
    "\n",
    "In this notebook, we'll explore how to use PyTorch for land cover classification using a small subset of the DeepGlobe Land Cover dataset. We'll build and train several models:\n",
    "\n",
    "- An MLP that classifies each pixel individually (flattened images).\n",
    "- An MLP that classifies each pixel using local crops (24x24 patches).\n",
    "- A simple CNN for segmentation (fully convolutional, no pooling).\n",
    "- A demonstration of ResNet-FCN for semantic segmentation.\n",
    "\n",
    "Let's get started!"
   ]
  },
  {
   "cell_type": "code",
   "execution_count": 1,
   "id": "22e41ca6",
   "metadata": {},
   "outputs": [],
   "source": [
    "import torch\n",
    "from torch import nn\n",
    "from torch.utils.data import Dataset, DataLoader\n",
    "from torchvision import transforms, models\n",
    "from PIL import Image\n",
    "import numpy as np\n",
    "import os\n",
    "import matplotlib.pyplot as plt"
   ]
  },
  {
   "cell_type": "markdown",
   "id": "8d94c21c",
   "metadata": {},
   "source": [
    "## Dataset Preparation\n",
    "\n",
    "For this demonstration, we'll use a small subset of the DeepGlobe Land Cover dataset. The dataset consists of satellite images and corresponding ground truth masks with land cover classes.\n",
    "\n",
    "**Note:** Ensure that you have the images and masks stored in accessible directories."
   ]
  },
  {
   "cell_type": "code",
   "execution_count": 2,
   "id": "702bf217",
   "metadata": {},
   "outputs": [
    {
     "name": "stdout",
     "output_type": "stream",
     "text": [
      "Connecting to the server...\n",
      "Downloading metadata.csv file... \n",
      "Downloading /data/cse620b/deepglobe-landcover/train/315352_sat.jpg to local_images/315352_sat.jpg\n",
      "Downloading /data/cse620b/deepglobe-landcover/train/315352_mask.png to local_masks/315352_mask.png\n",
      "Downloading /data/cse620b/deepglobe-landcover/train/427774_sat.jpg to local_images/427774_sat.jpg\n",
      "Downloading /data/cse620b/deepglobe-landcover/train/427774_mask.png to local_masks/427774_mask.png\n",
      "Downloading /data/cse620b/deepglobe-landcover/train/28689_sat.jpg to local_images/28689_sat.jpg\n",
      "Downloading /data/cse620b/deepglobe-landcover/train/28689_mask.png to local_masks/28689_mask.png\n",
      "Downloading /data/cse620b/deepglobe-landcover/train/661864_sat.jpg to local_images/661864_sat.jpg\n",
      "Downloading /data/cse620b/deepglobe-landcover/train/661864_mask.png to local_masks/661864_mask.png\n",
      "Downloading /data/cse620b/deepglobe-landcover/train/675849_sat.jpg to local_images/675849_sat.jpg\n",
      "Downloading /data/cse620b/deepglobe-landcover/train/675849_mask.png to local_masks/675849_mask.png\n",
      "Downloading /data/cse620b/deepglobe-landcover/train/987079_sat.jpg to local_images/987079_sat.jpg\n",
      "Downloading /data/cse620b/deepglobe-landcover/train/987079_mask.png to local_masks/987079_mask.png\n",
      "Downloading /data/cse620b/deepglobe-landcover/train/749523_sat.jpg to local_images/749523_sat.jpg\n",
      "Downloading /data/cse620b/deepglobe-landcover/train/749523_mask.png to local_masks/749523_mask.png\n",
      "Downloading /data/cse620b/deepglobe-landcover/train/461755_sat.jpg to local_images/461755_sat.jpg\n",
      "Downloading /data/cse620b/deepglobe-landcover/train/461755_mask.png to local_masks/461755_mask.png\n",
      "Downloading /data/cse620b/deepglobe-landcover/train/338661_sat.jpg to local_images/338661_sat.jpg\n",
      "Downloading /data/cse620b/deepglobe-landcover/train/338661_mask.png to local_masks/338661_mask.png\n",
      "Downloading /data/cse620b/deepglobe-landcover/train/552396_sat.jpg to local_images/552396_sat.jpg\n",
      "Downloading /data/cse620b/deepglobe-landcover/train/552396_mask.png to local_masks/552396_mask.png\n",
      "Copied 10 satellite images and masks to local_images and local_masks\n"
     ]
    }
   ],
   "source": [
    "import paramiko\n",
    "from scp import SCPClient\n",
    "import pandas as pd\n",
    "import os\n",
    "import getpass\n",
    "\n",
    "# SSH and server details\n",
    "hostname = 'femianjc-gpu.csi.miamioh.edu'\n",
    "username = getpass.getuser()  # Replace with your SSH username\n",
    "password = getpass.getpass('Password for femianjc-gpu:')  # Or use SSH keys for passwordless access\n",
    "remote_metadata_path = '/data/cse620b/deepglobe-landcover/metadata.csv'\n",
    "\n",
    "# Local destination directories\n",
    "image_dir = 'local_images'\n",
    "mask_dir = 'local_masks'\n",
    "\n",
    "# Create local directories if they don't exist\n",
    "os.makedirs(image_dir, exist_ok=True)\n",
    "os.makedirs(mask_dir, exist_ok=True)\n",
    "\n",
    "print(\"Connecting to the server...\")\n",
    "# Connect to the server via SSH\n",
    "ssh = paramiko.SSHClient()\n",
    "ssh.set_missing_host_key_policy(paramiko.AutoAddPolicy())\n",
    "ssh.connect(hostname, username=username, password=password)\n",
    "\n",
    "# Use SFTP to download the file\n",
    "sftp = ssh.open_sftp()\n",
    "\n",
    "# Download the metadata.csv file\n",
    "print(\"Downloading metadata.csv file... \")\n",
    "local_metadata = 'metadata.csv'\n",
    "sftp.get(remote_metadata_path, local_metadata)\n",
    "\n",
    "# Load the metadata.csv\n",
    "metadata = pd.read_csv(local_metadata)\n",
    "\n",
    "# 1. Filter the 'split' column to get only training images\n",
    "train_metadata = metadata[metadata['split'] == 'train']\n",
    "\n",
    "# Get a subset of 10 rows\n",
    "subset_metadata = train_metadata.sample(n=10, random_state=42)\n",
    "\n",
    "#  Download satellite images and masks via SFTP\n",
    "remote_base_dir = '/data/cse620b/deepglobe-landcover/'\n",
    "\n",
    "for index, row in subset_metadata.iterrows():\n",
    "    # Paths from the CSV are relative, so we need to prepend the base remote directory\n",
    "    remote_image_path = os.path.join(remote_base_dir, row['sat_image_path'])\n",
    "    remote_mask_path = os.path.join(remote_base_dir, row['mask_path'])\n",
    "    \n",
    "    # Local file paths\n",
    "    local_image_path = os.path.join(image_dir, os.path.basename(row['sat_image_path']))\n",
    "    local_mask_path = os.path.join(mask_dir, os.path.basename(row['mask_path']))\n",
    "    \n",
    "    # Download the image and mask via SFTP\n",
    "    print(f'Downloading {remote_image_path} to {local_image_path}')\n",
    "    sftp.get(remote_image_path, local_image_path)\n",
    "    print(f'Downloading {remote_mask_path} to {local_mask_path}')\n",
    "    sftp.get(remote_mask_path, local_mask_path)\n",
    "\n",
    "# Close the SFTP connection\n",
    "sftp.close()\n",
    "ssh.close()\n",
    "\n",
    "print(f'Copied 10 satellite images and masks to {image_dir} and {mask_dir}')\n"
   ]
  },
  {
   "cell_type": "code",
   "execution_count": 3,
   "id": "a6e2e268",
   "metadata": {},
   "outputs": [
    {
     "name": "stdout",
     "output_type": "stream",
     "text": [
      "Connecting to the server...\n",
      "Downloading /data/cse620b/deepglobe-landcover/train/406425_sat.jpg to local_test_images/406425_sat.jpg\n",
      "Downloading /data/cse620b/deepglobe-landcover/train/406425_mask.png to local_test_masks/406425_mask.png\n",
      "Downloading /data/cse620b/deepglobe-landcover/train/254565_sat.jpg to local_test_images/254565_sat.jpg\n",
      "Downloading /data/cse620b/deepglobe-landcover/train/254565_mask.png to local_test_masks/254565_mask.png\n",
      "Copied 2 satellite images and masks to local_test_images and local_test_masks\n"
     ]
    }
   ],
   "source": [
    "# Get a subset of 2 rows for testing (ensure they are different from training images)\n",
    "test_metadata = train_metadata.drop(subset_metadata.index).sample(n=2, random_state=123)\n",
    "\n",
    "# Create test directories if they don't exist\n",
    "test_image_dir = 'local_test_images'\n",
    "test_mask_dir = 'local_test_masks'\n",
    "\n",
    "os.makedirs(test_image_dir, exist_ok=True)\n",
    "os.makedirs(test_mask_dir, exist_ok=True)\n",
    "\n",
    "print(\"Connecting to the server...\")\n",
    "# Connect to the server via SSH\n",
    "ssh = paramiko.SSHClient()\n",
    "ssh.set_missing_host_key_policy(paramiko.AutoAddPolicy())\n",
    "ssh.connect(hostname, username=username, password=password)\n",
    "\n",
    "# Use SFTP to download the file\n",
    "sftp = ssh.open_sftp()\n",
    "\n",
    "# Download the images and masks for testing\n",
    "for index, row in test_metadata.iterrows():\n",
    "    # Remote paths\n",
    "    remote_image_path = os.path.join(remote_base_dir, row['sat_image_path'])\n",
    "    remote_mask_path = os.path.join(remote_base_dir, row['mask_path'])\n",
    "    \n",
    "    # Local paths\n",
    "    local_image_path = os.path.join(test_image_dir, os.path.basename(row['sat_image_path']))\n",
    "    local_mask_path = os.path.join(test_mask_dir, os.path.basename(row['mask_path']))\n",
    "    \n",
    "    # Download via SFTP\n",
    "    print(f'Downloading {remote_image_path} to {local_image_path}')\n",
    "    sftp.get(remote_image_path, local_image_path)\n",
    "    print(f'Downloading {remote_mask_path} to {local_mask_path}')\n",
    "    sftp.get(remote_mask_path, local_mask_path)\n",
    "\n",
    "print(f'Copied 2 satellite images and masks to {test_image_dir} and {test_mask_dir}')\n"
   ]
  },
  {
   "cell_type": "markdown",
   "id": "f7f30e51",
   "metadata": {},
   "source": [
    "Let's define a custom `Dataset` class to load the images and masks, applying necessary transformations."
   ]
  },
  {
   "cell_type": "code",
   "execution_count": 4,
   "id": "8b65d02f",
   "metadata": {
    "lines_to_next_cell": 1
   },
   "outputs": [],
   "source": [
    "import os\n",
    "import torch\n",
    "import numpy as np\n",
    "import rasterio\n",
    "from torch.utils.data import Dataset\n",
    "\n",
    "import warnings\n",
    "warnings.filterwarnings('ignore', message='Dataset has no geotransform')\n",
    "\n",
    "class DeepGlobeDataset(Dataset):\n",
    "    def __init__(self, image_dir, mask_dir, crop_size, transform=None):\n",
    "        self.image_dir = image_dir\n",
    "        self.mask_dir = mask_dir\n",
    "        self.image_files = os.listdir(image_dir)\n",
    "        self.mask_files = os.listdir(mask_dir)\n",
    "        self.transform = transform\n",
    "        self.crop_size = crop_size  # (height, width)\n",
    "\n",
    "        # Ensure that images and masks are aligned\n",
    "        self.image_files.sort()\n",
    "        self.mask_files.sort()\n",
    "\n",
    "        # Define colors for classes\n",
    "        self.colors = np.array([\n",
    "            [0, 255, 255],    # urban_land\n",
    "            [255, 255, 0],    # agriculture_land\n",
    "            [255, 0, 255],    # rangeland\n",
    "            [0, 255, 0],      # forest_land\n",
    "            [0, 0, 255],      # water\n",
    "            [255, 255, 255],  # barren_land\n",
    "            [0, 0, 0]         # unknown\n",
    "        ])\n",
    "\n",
    "        \n",
    "        # Create a 3D lookup table\n",
    "        self.lookup_table = np.zeros((256, 256, 256), dtype=np.uint8) + 6  # Initialize with 'unknown' class index 6\n",
    "\n",
    "        # Populate the lookup table\n",
    "        for idx, color in enumerate(self.colors):\n",
    "            r, g, b = color\n",
    "            self.lookup_table[r, g, b] = idx\n",
    "\n",
    "        # Map colors to classes (this was too slow)\n",
    "        self.color_to_class = { tuple(color): i for i, color in enumerate(self.colors) }\n",
    "\n",
    "    def __len__(self):\n",
    "        return len(self.image_files)\n",
    "\n",
    "    def color_to_class_idx(self, rgb):\n",
    "        \"\"\" Helper function to map RGB to class index \"\"\"\n",
    "        return self.color_to_class.get(tuple(rgb), 6)  # Default to 'unknown' class\n",
    "\n",
    "    def __getitem__(self, idx):\n",
    "        # Load image and mask paths\n",
    "        img_path = os.path.join(self.image_dir, self.image_files[idx])\n",
    "        mask_path = os.path.join(self.mask_dir, self.mask_files[idx])\n",
    "\n",
    "        # Open image and mask with rasterio\n",
    "        with rasterio.open(img_path) as img_dataset, rasterio.open(mask_path) as mask_dataset:\n",
    "            img_width, img_height = img_dataset.width, img_dataset.height\n",
    "\n",
    "            # Randomly choose the top-left corner for cropping\n",
    "            top = np.random.randint(0, img_height - self.crop_size[0])\n",
    "            left = np.random.randint(0, img_width - self.crop_size[1])\n",
    "\n",
    "            # Define the window for cropping\n",
    "            window = rasterio.windows.Window(left, top, self.crop_size[1], self.crop_size[0])\n",
    "\n",
    "            # Read the cropped region from the image and mask\n",
    "            image = img_dataset.read(window=window)  # (C, H, W) format\n",
    "            mask = mask_dataset.read(window=window)  # \n",
    "\n",
    "        # Convert the image to (H, W, C) for compatibility with transforms\n",
    "        image = image.transpose(1, 2, 0)  # Convert to (H, W, C) format\n",
    "\n",
    "        # Apply the color-to-class mapping to the mask\n",
    "        # mask_class = np.apply_along_axis(self.color_to_class_idx, 0, mask)\n",
    "        mask_class = self.lookup_table[\n",
    "                    mask[0],\n",
    "                    mask[1],\n",
    "                    mask[2]\n",
    "                ]\n",
    "\n",
    "        # Convert image and mask to PyTorch tensors\n",
    "        mask_class_tensor = torch.from_numpy(mask_class).long()\n",
    "        image_tensor = torch.from_numpy(image).permute(2, 0, 1).float()  # Convert to (C, H, W)\n",
    "\n",
    "        if self.transform:\n",
    "            # Apply the same random transformation to both image and mask\n",
    "            image_tensor, mask_class_tensor = self.transform(image_tensor, mask_class_tensor)\n",
    "\n",
    "        return image_tensor, mask_class_tensor\n"
   ]
  },
  {
   "cell_type": "markdown",
   "id": "090b76bc",
   "metadata": {},
   "source": [
    "Now, let's create instances of our dataset and data loaders."
   ]
  },
  {
   "cell_type": "code",
   "execution_count": 8,
   "id": "7f12f429",
   "metadata": {
    "lines_to_next_cell": 1
   },
   "outputs": [],
   "source": [
    "# Create the dataset\n",
    "train_dataset = DeepGlobeDataset(image_dir, mask_dir, crop_size=(512,512))"
   ]
  },
  {
   "cell_type": "code",
   "execution_count": 7,
   "id": "b4225af6",
   "metadata": {},
   "outputs": [
    {
     "data": {
      "image/png": "[encoded data removed]",
      "text/plain": [
       "<Figure size 640x480 with 2 Axes>"
      ]
     },
     "metadata": {},
     "output_type": "display_data"
    }
   ],
   "source": [
    "image, mask = train_dataset[0]\n",
    "\n",
    "plt.subplot(121)\n",
    "plt.imshow(image.permute(1, 2,0).numpy()/255.)\n",
    "plt.axis('off')\n",
    "plt.title('Image')\n",
    "\n",
    "plt.subplot(122)\n",
    "plt.imshow(mask)\n",
    "plt.axis('off')\n",
    "plt.title('Mask')\n",
    "plt.show()\n",
    "\n"
   ]
  },
  {
   "cell_type": "markdown",
   "id": "5e8850fa",
   "metadata": {},
   "source": [
    "## Model 1: MLP that Classifies Each Pixel Individually (Flattened Images)\n",
    "\n",
    "In this model, we'll flatten the entire image and treat it as a single vector input to an MLP. Each pixel will be classified independently."
   ]
  },
  {
   "cell_type": "code",
   "execution_count": 16,
   "id": "6dbd7722",
   "metadata": {},
   "outputs": [],
   "source": [
    "# Create the dataset\n",
    "train_dataset = DeepGlobeDataset(image_dir, mask_dir, crop_size=(1000,1000))\n",
    "test_dataset = DeepGlobeDataset(test_image_dir, test_mask_dir, crop_size=(1000,1000))\n"
   ]
  },
  {
   "cell_type": "code",
   "execution_count": 17,
   "id": "c346e937",
   "metadata": {},
   "outputs": [],
   "source": [
    "# Create the data loader\n",
    "train_loader = DataLoader(train_dataset, batch_size=1, shuffle=True, num_workers=0) # Always set the number of workers to zero when debugging!\n",
    "test_loader = DataLoader(test_dataset, batch_size=1, shuffle=False, num_workers=0)"
   ]
  },
  {
   "cell_type": "code",
   "execution_count": 11,
   "id": "ae03e443",
   "metadata": {},
   "outputs": [],
   "source": [
    "class MLP(nn.Module):\n",
    "    def __init__(self, num_inputs, num_classes):\n",
    "        super(MLP, self).__init__()\n",
    "        self.fc1 = nn.Linear(num_inputs, 30)\n",
    "        self.fc2 = nn.Linear(30,30)\n",
    "        self.fc3 = nn.Linear(30, num_classes)\n",
    "\n",
    "    def forward(self, x):\n",
    "        x = torch.relu(self.fc1(x))\n",
    "        x = torch.relu(self.fc2(x))\n",
    "        x = self.fc3(x)\n",
    "        return x\n",
    "\n",
    "num_inputs = 3 # number of input features\n",
    "num_classes = 7  # Number of land cover classes\n",
    "\n",
    "# Instantiate the model\n",
    "model1 = MLP(3, num_classes)\n"
   ]
  },
  {
   "cell_type": "code",
   "execution_count": 12,
   "id": "bae6d87c",
   "metadata": {},
   "outputs": [
    {
     "name": "stdout",
     "output_type": "stream",
     "text": [
      "Using cuda for training\n"
     ]
    }
   ],
   "source": [
    "device = torch.device('cuda' if torch.cuda.is_available() else 'cpu')\n",
    "print(f\"Using {device} for training\")"
   ]
  },
  {
   "cell_type": "code",
   "execution_count": 13,
   "id": "a807d7be",
   "metadata": {},
   "outputs": [],
   "source": [
    "model1 = model1.to(device)"
   ]
  },
  {
   "cell_type": "markdown",
   "id": "0a47dcea",
   "metadata": {},
   "source": [
    "Define loss function and optimizer."
   ]
  },
  {
   "cell_type": "code",
   "execution_count": 14,
   "id": "29f0ea35",
   "metadata": {},
   "outputs": [],
   "source": [
    "criterion = nn.CrossEntropyLoss()\n",
    "optimizer = torch.optim.Adam(model1.parameters(), lr=0.01)  # IMportant model is on the right device when accessing its parameters"
   ]
  },
  {
   "cell_type": "markdown",
   "id": "174fd501",
   "metadata": {},
   "source": [
    "**Training Loop for Model 1**"
   ]
  },
  {
   "cell_type": "code",
   "execution_count": 18,
   "id": "0a85ad3c",
   "metadata": {
    "lines_to_next_cell": 1
   },
   "outputs": [
    {
     "data": {
      "application/vnd.jupyter.widget-view+json": {
       "model_id": "091a0629a4624726b67a2dd5888db331",
       "version_major": 2,
       "version_minor": 0
      },
      "text/plain": [
       "  0%|          | 0/5 [00:00<?, ?it/s]"
      ]
     },
     "metadata": {},
     "output_type": "display_data"
    },
    {
     "data": {
      "application/vnd.jupyter.widget-view+json": {
       "model_id": "65f49340643a47cfa440882e88cff5c2",
       "version_major": 2,
       "version_minor": 0
      },
      "text/plain": [
       "  0%|          | 0/10 [00:00<?, ?it/s]"
      ]
     },
     "metadata": {},
     "output_type": "display_data"
    },
    {
     "name": "stderr",
     "output_type": "stream",
     "text": [
      "Exception ignored in: <function _MultiProcessingDataLoaderIter.__del__ at 0x773974137e20>\n",
      "Traceback (most recent call last):\n",
      "  File \"/opt/anaconda3/envs/cse620b-shared/lib/python3.11/site-packages/torch/utils/data/dataloader.py\", line 1604, in __del__\n",
      "    self._shutdown_workers()\n",
      "  File \"/opt/anaconda3/envs/cse620b-shared/lib/python3.11/site-packages/torch/utils/data/dataloader.py\", line 1568, in _shutdown_workers\n",
      "    w.join(timeout=_utils.MP_STATUS_CHECK_INTERVAL)\n",
      "  File \"/opt/anaconda3/envs/cse620b-shared/lib/python3.11/multiprocessing/process.py\", line 149, in join\n",
      "    res = self._popen.wait(timeout)\n",
      "          ^^^^^^^^^^^^^^^^^^^^^^^^^\n",
      "  File \"/opt/anaconda3/envs/cse620b-shared/lib/python3.11/multiprocessing/popen_fork.py\", line 40, in wait\n",
      "    if not wait([self.sentinel], timeout):\n",
      "           ^^^^^^^^^^^^^^^^^^^^^^^^^^^^^^\n",
      "  File \"/opt/anaconda3/envs/cse620b-shared/lib/python3.11/multiprocessing/connection.py\", line 948, in wait\n",
      "    ready = selector.select(timeout)\n",
      "            ^^^^^^^^^^^^^^^^^^^^^^^^\n",
      "  File \"/opt/anaconda3/envs/cse620b-shared/lib/python3.11/selectors.py\", line 415, in select\n",
      "    fd_event_list = self._selector.poll(timeout)\n",
      "                    ^^^^^^^^^^^^^^^^^^^^^^^^^^^^\n",
      "KeyboardInterrupt: \n"
     ]
    },
    {
     "name": "stdout",
     "output_type": "stream",
     "text": [
      "Epoch [1/5], Loss: 1.3187\n"
     ]
    },
    {
     "data": {
      "application/vnd.jupyter.widget-view+json": {
       "model_id": "b9e2866bb6ca4e36af245559d61e7915",
       "version_major": 2,
       "version_minor": 0
      },
      "text/plain": [
       "  0%|          | 0/10 [00:00<?, ?it/s]"
      ]
     },
     "metadata": {},
     "output_type": "display_data"
    },
    {
     "name": "stdout",
     "output_type": "stream",
     "text": [
      "Epoch [2/5], Loss: 1.5082\n"
     ]
    },
    {
     "data": {
      "application/vnd.jupyter.widget-view+json": {
       "model_id": "6da78689ee664ed0be1753c83f5312d5",
       "version_major": 2,
       "version_minor": 0
      },
      "text/plain": [
       "  0%|          | 0/10 [00:00<?, ?it/s]"
      ]
     },
     "metadata": {},
     "output_type": "display_data"
    },
    {
     "name": "stdout",
     "output_type": "stream",
     "text": [
      "Epoch [3/5], Loss: 1.6306\n"
     ]
    },
    {
     "data": {
      "application/vnd.jupyter.widget-view+json": {
       "model_id": "5b7c04870cfc4926ba915c4909a221fd",
       "version_major": 2,
       "version_minor": 0
      },
      "text/plain": [
       "  0%|          | 0/10 [00:00<?, ?it/s]"
      ]
     },
     "metadata": {},
     "output_type": "display_data"
    },
    {
     "name": "stdout",
     "output_type": "stream",
     "text": [
      "Epoch [4/5], Loss: 1.4988\n"
     ]
    },
    {
     "data": {
      "application/vnd.jupyter.widget-view+json": {
       "model_id": "aace727ef36e49e99e440656e03d569b",
       "version_major": 2,
       "version_minor": 0
      },
      "text/plain": [
       "  0%|          | 0/10 [00:00<?, ?it/s]"
      ]
     },
     "metadata": {},
     "output_type": "display_data"
    },
    {
     "name": "stdout",
     "output_type": "stream",
     "text": [
      "Epoch [5/5], Loss: 1.4194\n"
     ]
    }
   ],
   "source": [
    "num_epochs = 5\n",
    "import tqdm.auto as tq\n",
    "\n",
    "for epoch in tq.trange(num_epochs):\n",
    "    model1.train()\n",
    "    running_loss = 0.0\n",
    "    for images, masks in tq.tqdm(train_loader):\n",
    "        images= images.to(device) # Move images to the same device as the model\n",
    "        masks = masks.to(device)  # Move masks to the same device as the model\n",
    "\n",
    "        # Flatten images\n",
    "        images = images.view(-1, 3)  # Flatten the entire minibatch\n",
    "        # Flatten masks\n",
    "        masks = masks.view(-1)\n",
    "\n",
    "        # Forward pass\n",
    "        outputs = model1(images)\n",
    "        # Since outputs are of shape (batch_size, num_classes), need to adjust masks\n",
    "        loss = criterion(outputs, masks)\n",
    "\n",
    "        # Backward and optimize\n",
    "        optimizer.zero_grad()\n",
    "        loss.backward()\n",
    "        optimizer.step()\n",
    "\n",
    "        running_loss += loss.item()\n",
    "        \n",
    "\n",
    "    print(f'Epoch [{epoch+1}/{num_epochs}], Loss: {running_loss/len(train_loader):.4f}')"
   ]
  },
  {
   "cell_type": "code",
   "execution_count": 121,
   "id": "96f2a784",
   "metadata": {},
   "outputs": [],
   "source": [
    "def evaluate(model, data_loader, criterion):\n",
    "    model.eval()  # Set the model to evaluation mode\n",
    "    running_loss = 0.0\n",
    "    total_correct = 0\n",
    "    total_pixels = 0\n",
    "\n",
    "    with torch.no_grad():  # Disable gradient computation\n",
    "        for images, masks in data_loader:\n",
    "            images = images.to(device)\n",
    "            masks = masks.to(device)\n",
    "            \n",
    "            # Flatten images and masks just like in training\n",
    "            images = images.view(-1, 3)\n",
    "            masks = masks.view(-1)\n",
    "\n",
    "            # Forward pass\n",
    "            outputs = model(images)\n",
    "            loss = criterion(outputs, masks)\n",
    "\n",
    "            # Accumulate loss\n",
    "            running_loss += loss.item()\n",
    "\n",
    "            # Predictions and accuracy\n",
    "            _, predicted = torch.max(outputs, 1)\n",
    "            total_correct += (predicted == masks).sum().item()\n",
    "            total_pixels += masks.size(0)\n",
    "\n",
    "    avg_loss = running_loss / len(data_loader)\n",
    "    accuracy = 100 * total_correct / total_pixels\n",
    "    print(f'Validation Loss: {avg_loss:.4f}, Accuracy: {accuracy:.2f}%')\n",
    "    return avg_loss, accuracy"
   ]
  },
  {
   "cell_type": "code",
   "execution_count": 122,
   "id": "b2b5f222",
   "metadata": {},
   "outputs": [
    {
     "name": "stdout",
     "output_type": "stream",
     "text": [
      "Validation Loss: 1.5087, Accuracy: 26.25%\n"
     ]
    },
    {
     "data": {
      "text/plain": [
       "(1.5087146759033203, 26.2487)"
      ]
     },
     "execution_count": 122,
     "metadata": {},
     "output_type": "execute_result"
    }
   ],
   "source": [
    "evaluate(model1, test_loader, criterion)"
   ]
  },
  {
   "cell_type": "markdown",
   "id": "e106ded0",
   "metadata": {},
   "source": [
    "## Model 2: MLP that Classifies Each Pixel Using 24x24 Crops\n",
    "\n",
    "In this model, we'll use local patches (crops) of the image to classify each pixel, allowing the model to consider local context."
   ]
  },
  {
   "cell_type": "markdown",
   "id": "c3ae2545",
   "metadata": {},
   "source": [
    "**Note:** Due to time constraints and the complexity of sourcing an optimal dataset for this demonstration, the code below has not been fully debugged or tested prior to class. Please consider this as a foundational framework that we'll refine and troubleshoot together during our session.\n"
   ]
  },
  {
   "cell_type": "code",
   "execution_count": null,
   "id": "4ab9bb9d",
   "metadata": {},
   "outputs": [],
   "source": [
    "class MLPCrops(nn.Module):\n",
    "    def __init__(self, input_size, num_classes):\n",
    "        super(MLPCrops, self).__init__()\n",
    "        self.fc1 = nn.Linear(input_size, 256)\n",
    "        self.fc2 = nn.Linear(256, num_classes)\n",
    "\n",
    "    def forward(self, x):\n",
    "        # x shape: (batch_size, channels, height, width)\n",
    "        x = x.view(x.size(0), -1)  # Flatten\n",
    "        x = torch.relu(self.fc1(x))\n",
    "        x = self.fc2(x)\n",
    "        return x\n",
    "\n",
    "# Input size remains the same\n",
    "model2 = MLPCrops(input_size, num_classes)\n",
    "\n",
    "# Define loss function and optimizer\n",
    "criterion = nn.CrossEntropyLoss()\n",
    "optimizer = torch.optim.Adam(model2.parameters(), lr=0.001)"
   ]
  },
  {
   "cell_type": "markdown",
   "id": "9eaa9ae3",
   "metadata": {},
   "source": [
    "**Training Loop for Model 2**"
   ]
  },
  {
   "cell_type": "code",
   "execution_count": null,
   "id": "6bed0428",
   "metadata": {
    "lines_to_next_cell": 1
   },
   "outputs": [],
   "source": [
    "num_epochs = 5\n",
    "\n",
    "for epoch in range(num_epochs):\n",
    "    model2.train()\n",
    "    running_loss = 0.0\n",
    "    for images, masks in train_loader:\n",
    "        # Flatten images\n",
    "        images = images.view(images.size(0), -1)\n",
    "        # For masks, we can use the center pixel as the target\n",
    "        center_pixel = masks[:, crop_size[0]//2, crop_size[1]//2]\n",
    "\n",
    "        # Forward pass\n",
    "        outputs = model2(images)\n",
    "        # outputs shape: (batch_size, num_classes)\n",
    "\n",
    "        loss = criterion(outputs, center_pixel)\n",
    "\n",
    "        # Backward and optimize\n",
    "        optimizer.zero_grad()\n",
    "        loss.backward()\n",
    "        optimizer.step()\n",
    "\n",
    "        running_loss += loss.item()\n",
    "\n",
    "    print(f'Epoch [{epoch+1}/{num_epochs}], Loss: {running_loss/len(train_loader):.4f}')"
   ]
  },
  {
   "cell_type": "markdown",
   "id": "76a571e4",
   "metadata": {},
   "source": [
    "**Note:** This model uses local context around each pixel but still outputs a single class per crop."
   ]
  },
  {
   "cell_type": "markdown",
   "id": "e3721452",
   "metadata": {},
   "source": [
    "## Model 3: Simple CNN for Segmentation (Fully Convolutional, No Pooling)\n",
    "\n",
    "Now we'll build a simple CNN that performs pixel-wise classification over the entire image."
   ]
  },
  {
   "cell_type": "code",
   "execution_count": null,
   "id": "82df5200",
   "metadata": {},
   "outputs": [],
   "source": [
    "class SimpleCNN(nn.Module):\n",
    "    def __init__(self, num_classes):\n",
    "        super(SimpleCNN, self).__init__()\n",
    "        self.conv1 = nn.Conv2d(3, 16, kernel_size=3, padding=1)\n",
    "        self.conv2 = nn.Conv2d(16, num_classes, kernel_size=3, padding=1)\n",
    "\n",
    "    def forward(self, x):\n",
    "        # x shape: (batch_size, 3, height, width)\n",
    "        x = torch.relu(self.conv1(x))\n",
    "        x = self.conv2(x)\n",
    "        return x  # Output shape: (batch_size, num_classes, height, width)\n",
    "\n",
    "# Instantiate the model\n",
    "model3 = SimpleCNN(num_classes)\n",
    "\n",
    "# Define loss function and optimizer\n",
    "criterion = nn.CrossEntropyLoss()\n",
    "optimizer = torch.optim.Adam(model3.parameters(), lr=0.001)"
   ]
  },
  {
   "cell_type": "markdown",
   "id": "658a42d0",
   "metadata": {},
   "source": [
    "**Training Loop for Model 3**"
   ]
  },
  {
   "cell_type": "code",
   "execution_count": null,
   "id": "4576f3ff",
   "metadata": {},
   "outputs": [],
   "source": [
    "num_epochs = 5\n",
    "\n",
    "for epoch in range(num_epochs):\n",
    "    model3.train()\n",
    "    running_loss = 0.0\n",
    "    for images, masks in train_loader:\n",
    "        # Forward pass\n",
    "        outputs = model3(images)\n",
    "        # outputs shape: (batch_size, num_classes, height, width)\n",
    "        # masks shape: (batch_size, height, width)\n",
    "\n",
    "        loss = criterion(outputs, masks)\n",
    "\n",
    "        # Backward and optimize\n",
    "        optimizer.zero_grad()\n",
    "        loss.backward()\n",
    "        optimizer.step()\n",
    "\n",
    "        running_loss += loss.item()\n",
    "\n",
    "    print(f'Epoch [{epoch+1}/{num_epochs}], Loss: {running_loss/len(train_loader):.4f}')"
   ]
  },
  {
   "cell_type": "markdown",
   "id": "900baf28",
   "metadata": {},
   "source": [
    "**Note:** This CNN preserves spatial dimensions and outputs a class prediction for each pixel."
   ]
  },
  {
   "cell_type": "markdown",
   "id": "451ff396",
   "metadata": {},
   "source": [
    "## Model 4: ResNet-FCN for Semantic Segmentation\n",
    "\n",
    "Finally, we'll use a pre-trained ResNet model with a Fully Convolutional Network (FCN) head for segmentation."
   ]
  },
  {
   "cell_type": "code",
   "execution_count": null,
   "id": "4594ce6f",
   "metadata": {},
   "outputs": [],
   "source": [
    "from torchvision.models.segmentation import fcn_resnet50\n",
    "\n",
    "# Load a pre-trained FCN model\n",
    "model4 = fcn_resnet50(pretrained=True)\n",
    "\n",
    "# Adjust the classifier to output num_classes\n",
    "model4.classifier[4] = nn.Conv2d(512, num_classes, kernel_size=1)\n",
    "\n",
    "# Define loss function and optimizer\n",
    "criterion = nn.CrossEntropyLoss()\n",
    "optimizer = torch.optim.Adam(model4.parameters(), lr=0.0001)"
   ]
  },
  {
   "cell_type": "markdown",
   "id": "64783372",
   "metadata": {},
   "source": [
    "**Training Loop for Model 4**"
   ]
  },
  {
   "cell_type": "code",
   "execution_count": null,
   "id": "6d0528b9",
   "metadata": {
    "lines_to_next_cell": 1
   },
   "outputs": [],
   "source": [
    "num_epochs = 5\n",
    "\n",
    "for epoch in range(num_epochs):\n",
    "    model4.train()\n",
    "    running_loss = 0.0\n",
    "    for images, masks in train_loader:\n",
    "        # Forward pass\n",
    "        outputs = model4(images)['out']\n",
    "        # outputs shape: (batch_size, num_classes, height, width)\n",
    "        # masks shape: (batch_size, height, width)\n",
    "\n",
    "        loss = criterion(outputs, masks)\n",
    "\n",
    "        # Backward and optimize\n",
    "        optimizer.zero_grad()\n",
    "        loss.backward()\n",
    "        optimizer.step()\n",
    "\n",
    "        running_loss += loss.item()\n",
    "\n",
    "    print(f'Epoch [{epoch+1}/{num_epochs}], Loss: {running_loss/len(train_loader):.4f}')"
   ]
  },
  {
   "cell_type": "markdown",
   "id": "2da810ad",
   "metadata": {},
   "source": [
    "**Explanation:**\n",
    "\n",
    "- **ResNet-FCN**: Combines a ResNet backbone for feature extraction with an FCN head for pixel-wise classification.\n",
    "- **Transfer Learning**: We use a pre-trained model to leverage learned features and adjust the final layer to our number of classes.\n",
    "- **Advantages**: More powerful than previous models, capable of capturing complex patterns in the data."
   ]
  },
  {
   "cell_type": "markdown",
   "id": "1c09461b",
   "metadata": {},
   "source": [
    "## Visualization of Results\n",
    "\n",
    "Let's visualize some predictions from our models."
   ]
  },
  {
   "cell_type": "code",
   "execution_count": null,
   "id": "c9c9a189",
   "metadata": {
    "lines_to_next_cell": 1
   },
   "outputs": [],
   "source": [
    "def visualize_predictions(model, dataset, index=0):\n",
    "    model.eval()\n",
    "    image, mask = dataset[index]\n",
    "    image = image.unsqueeze(0)  # Add batch dimension\n",
    "\n",
    "    with torch.no_grad():\n",
    "        output = model(image)\n",
    "        if isinstance(output, dict):\n",
    "            output = output['out']\n",
    "        preds = torch.argmax(output, dim=1).squeeze(0)\n",
    "\n",
    "    # Convert tensors to numpy arrays for plotting\n",
    "    image_np = image.squeeze(0).permute(1, 2, 0).numpy()\n",
    "    mask_np = mask.numpy()\n",
    "    preds_np = preds.numpy()\n",
    "\n",
    "    # Plotting\n",
    "    plt.figure(figsize=(15,5))\n",
    "    plt.subplot(1,3,1)\n",
    "    plt.title('Input Image')\n",
    "    plt.imshow(image_np)\n",
    "    plt.axis('off')\n",
    "\n",
    "    plt.subplot(1,3,2)\n",
    "    plt.title('Ground Truth')\n",
    "    plt.imshow(mask_np, cmap='jet')\n",
    "    plt.axis('off')\n",
    "\n",
    "    plt.subplot(1,3,3)\n",
    "    plt.title('Predicted Mask')\n",
    "    plt.imshow(preds_np, cmap='jet')\n",
    "    plt.axis('off')\n",
    "\n",
    "    plt.show()"
   ]
  },
  {
   "cell_type": "code",
   "execution_count": null,
   "id": "5fd67899",
   "metadata": {},
   "outputs": [],
   "source": [
    "# Visualize predictions from Model 3 (SimpleCNN)\n",
    "visualize_predictions(model3, train_dataset)"
   ]
  },
  {
   "cell_type": "markdown",
   "id": "6d4e00ce",
   "metadata": {},
   "source": [
    "**Note:** You can replace `model3` with `model4` to visualize predictions from the ResNet-FCN model."
   ]
  },
  {
   "cell_type": "markdown",
   "id": "7f7cea6c",
   "metadata": {},
   "source": [
    "## Conclusion\n",
    "\n",
    "In this notebook, we explored different approaches to land cover classification using PyTorch:\n",
    "\n",
    "- **MLP with Flattened Images**: Simple but loses spatial information.\n",
    "- **MLP with Crops**: Considers local context but limited in capturing complex spatial patterns.\n",
    "- **Simple CNN**: Preserves spatial information and allows for pixel-wise classification.\n",
    "- **ResNet-FCN**: Advanced model leveraging transfer learning for better performance.\n",
    "\n",
    "This demonstrates how different architectures can be applied to the task of semantic segmentation in remote sensing."
   ]
  }
 ],
 "metadata": {
  "jupytext": {
   "cell_metadata_filter": "-all",
   "formats": "ipynb,py:percent",
   "main_language": "python"
  },
  "kernelspec": {
   "display_name": "cse620b-shared",
   "language": "python",
   "name": "python3"
  },
  "language_info": {
   "codemirror_mode": {
    "name": "ipython",
    "version": 3
   },
   "file_extension": ".py",
   "mimetype": "text/x-python",
   "name": "python",
   "nbconvert_exporter": "python",
   "pygments_lexer": "ipython3",
   "version": "3.11.10"
  }
 },
 "nbformat": 4,
 "nbformat_minor": 5
}
